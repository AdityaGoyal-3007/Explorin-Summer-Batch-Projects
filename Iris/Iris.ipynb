{
 "cells": [
  {
   "cell_type": "code",
   "execution_count": 1,
   "id": "6e635cb4-5824-4e69-8086-fecf72ec62a6",
   "metadata": {},
   "outputs": [],
   "source": [
    "import pandas as pd\n",
    "import numpy as np\n",
    "import matplotlib.pyplot as plt"
   ]
  },
  {
   "cell_type": "code",
   "execution_count": null,
   "id": "b462ed5e-377c-4392-b08d-6cc2d145ac12",
   "metadata": {},
   "outputs": [],
   "source": [
    "iris = pd.read_csv(r\"Iris.csv\")\n",
    "iris"
   ]
  },
  {
   "cell_type": "code",
   "execution_count": null,
   "id": "9d07e205-e8ce-4e39-b8b0-81786fa1aa2e",
   "metadata": {},
   "outputs": [],
   "source": [
    "ir = iris.copy()\n",
    "ir.head()"
   ]
  },
  {
   "cell_type": "code",
   "execution_count": null,
   "id": "9d1c7583-9af5-498b-9986-6225720f30a2",
   "metadata": {},
   "outputs": [],
   "source": [
    "ir.columns = ['Petal_length', 'Petal_width', 'Sepal_length', 'Sepal_width', 'Flower_type']"
   ]
  },
  {
   "cell_type": "code",
   "execution_count": null,
   "id": "fdb485f0-42f0-4a06-b5a9-ee36308cbd88",
   "metadata": {},
   "outputs": [],
   "source": [
    "# A1.\n",
    "flower_arr = ir.Flower_type.value_counts().values\n",
    "for i in flower_arr:\n",
    "    print(i, sep = \" \", end = \" \")"
   ]
  },
  {
   "cell_type": "code",
   "execution_count": null,
   "id": "b8f7cac9-fc96-47fe-961c-4988dc2678bf",
   "metadata": {},
   "outputs": [],
   "source": [
    "# A2.\n",
    "ir_vir = ir[(ir.Flower_type == \"Iris-virginica\") & (ir.Petal_length > 1.5)]\n",
    "ir_vir"
   ]
  },
  {
   "cell_type": "code",
   "execution_count": null,
   "id": "22261d3a-c29d-4d49-aab2-b2771f9f8ce6",
   "metadata": {},
   "outputs": [],
   "source": [
    "#A3.\n",
    "ir.groupby(\"Flower_type\").agg(['min', 'max', 'mean']).round(2)"
   ]
  }
 ],
 "metadata": {
  "kernelspec": {
   "display_name": "Python 3 (ipykernel)",
   "language": "python",
   "name": "python3"
  },
  "language_info": {
   "codemirror_mode": {
    "name": "ipython",
    "version": 3
   },
   "file_extension": ".py",
   "mimetype": "text/x-python",
   "name": "python",
   "nbconvert_exporter": "python",
   "pygments_lexer": "ipython3",
   "version": "3.10.11"
  }
 },
 "nbformat": 4,
 "nbformat_minor": 5
}
