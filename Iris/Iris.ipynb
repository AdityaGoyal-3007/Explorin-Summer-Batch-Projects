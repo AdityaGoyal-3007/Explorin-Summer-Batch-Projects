{
 "cells": [
  {
   "cell_type": "code",
   "execution_count": 1,
   "id": "6e635cb4-5824-4e69-8086-fecf72ec62a6",
   "metadata": {},
   "outputs": [],
   "source": [
    "# Importing the Libraries.\n",
    "import pandas as pd"
   ]
  },
  {
   "cell_type": "code",
   "execution_count": null,
   "id": "b462ed5e-377c-4392-b08d-6cc2d145ac12",
   "metadata": {},
   "outputs": [],
   "source": [
    "iris = pd.read_csv(r\"Iris.csv\") # Reading the CSV File.\n",
    "iris"
   ]
  },
  {
   "cell_type": "code",
   "execution_count": null,
   "id": "9d07e205-e8ce-4e39-b8b0-81786fa1aa2e",
   "metadata": {},
   "outputs": [],
   "source": [
    "ir = iris.copy()   # Copying the Dataset For Good Measures.\n",
    "ir.head()          # Looking at the Default First Five Columns."
   ]
  },
  {
   "cell_type": "code",
   "execution_count": null,
   "id": "9d1c7583-9af5-498b-9986-6225720f30a2",
   "metadata": {},
   "outputs": [],
   "source": [
    "# Renaming the columns because values were acting as labels.\n",
    "ir.columns = ['Petal_length', 'Petal_width', 'Sepal_length', 'Sepal_width', 'Flower_type']"
   ]
  },
  {
   "cell_type": "code",
   "execution_count": null,
   "id": "fdb485f0-42f0-4a06-b5a9-ee36308cbd88",
   "metadata": {},
   "outputs": [],
   "source": [
    "# A1.\n",
    "flower_arr = ir.Flower_type.value_counts().values  # Took the count of every Flower_type\n",
    "for i in flower_arr:                               # Ran a loop to print them all with spaces between them.\n",
    "    print(i, sep = \" \", end = \" \")"
   ]
  },
  {
   "cell_type": "code",
   "execution_count": null,
   "id": "b8f7cac9-fc96-47fe-961c-4988dc2678bf",
   "metadata": {},
   "outputs": [],
   "source": [
    "# A2.\n",
    "ir_vir = ir[(ir.Flower_type == \"Iris-virginica\") & (ir.Petal_length > 1.5)] # Filtered the data to only show what was required.\n",
    "ir_vir"
   ]
  },
  {
   "cell_type": "code",
   "execution_count": null,
   "id": "22261d3a-c29d-4d49-aab2-b2771f9f8ce6",
   "metadata": {},
   "outputs": [],
   "source": [
    "#A3.\n",
    "ir.groupby(\"Flower_type\").agg(['min', 'max', 'mean']).round(2) \n",
    "\n",
    "# groupby() function counts all instances present in the column and groups them by Flower_type. \n",
    "# Then agg() function finds all the aggregate values. If you want only min or max --> .agg('min').\n",
    "# You want Multiple values like above --> Make a list.\n",
    "# Rounded all the values by 2 decimal points."
   ]
  }
 ],
 "metadata": {
  "kernelspec": {
   "display_name": "Python 3 (ipykernel)",
   "language": "python",
   "name": "python3"
  },
  "language_info": {
   "codemirror_mode": {
    "name": "ipython",
    "version": 3
   },
   "file_extension": ".py",
   "mimetype": "text/x-python",
   "name": "python",
   "nbconvert_exporter": "python",
   "pygments_lexer": "ipython3",
   "version": "3.10.11"
  }
 },
 "nbformat": 4,
 "nbformat_minor": 5
}
